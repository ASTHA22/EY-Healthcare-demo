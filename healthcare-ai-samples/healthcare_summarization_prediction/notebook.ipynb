{
 "cells": [
  {
   "cell_type": "markdown",
   "metadata": {},
   "source": [
    "# Healthcare Summarization & Chronic Disease Prediction\n",
    "Demo: Summarize records and predict chronic disease risk using Azure AI."
   ]
  },
  {
   "cell_type": "code",
   "metadata": {},
   "source": [
    "# Install dependencies\n",
    "!pip install azure-ai-textanalytics openai pandas scikit-learn"
   ]
  },
  {
   "cell_type": "markdown",
   "metadata": {},
   "source": [
    "## 1. Summarize Healthcare Records with Azure Text Analytics"
   ]
  },
  {
   "cell_type": "code",
   "metadata": {},
   "source": [
    "from azure.ai.textanalytics import TextAnalyticsClient\n",
    "from azure.core.credentials import AzureKeyCredential\n",
    "endpoint = 'https://YOUR_RESOURCE.cognitiveservices.azure.com/'  # Replace\n",
    "key = 'YOUR_TEXT_ANALYTICS_KEY'\n",
    "client = TextAnalyticsClient(endpoint=endpoint, credential=AzureKeyCredential(key))\n",
    "documents = [\"Patient has a history of hypertension and diabetes.\"]\n",
    "response = client.analyze_healthcare_entities(documents=documents)\n",
    "for doc in response:\n",
    "    for entity in doc.entities:\n",
    "        print(entity.text, entity.category)"
   ]
  },
  {
   "cell_type": "markdown",
   "metadata": {},
   "source": [
    "## 2. Predict Chronic Disease Risk (Mock Example)"
   ]
  },
  {
   "cell_type": "code",
   "metadata": {},
   "source": [
    "import pandas as pd\n",
    "from sklearn.linear_model import LogisticRegression\n",
    "# Mock data\n",
    "df = pd.read_csv('mock_data.csv')\n",
    "X = df[['age', 'bmi']]\n",
    "y = df['chronic_disease']\n",
    "model = LogisticRegression().fit(X, y)\n",
    "# Predict for a new patient\n",
    "new_patient = pd.DataFrame({'age': [60], 'bmi': [30]})\n",
    "risk = model.predict_proba(new_patient)[0][1]\n",
    "print('Predicted chronic disease risk:', risk)"
   ]
  }
 ],
 "metadata": {
  "kernelspec": {
   "display_name": "Python 3",
   "language": "python",
   "name": "python3"
  },
  "language_info": {
   "name": "python",
   "version": "3.8"
  }
 },
 "nbformat": 4,
 "nbformat_minor": 2
}
