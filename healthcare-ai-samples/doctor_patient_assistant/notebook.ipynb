{
 "cells": [
  {
   "cell_type": "markdown",
   "metadata": {},
   "source": [
    "# Doctor-Patient Interaction Assistant\n",
    "Demo: Transcribe, label, and summarize doctor-patient conversations using Azure AI."
   ]
  },
  {
   "cell_type": "code",
   "metadata": {},
   "source": [
    "# Install dependencies\n",
    "!pip install azure-cognitiveservices-speech openai"
   ]
  },
  {
   "cell_type": "markdown",
   "metadata": {},
   "source": [
    "## 1. Azure Speech-to-Text Setup"
   ]
  },
  {
   "cell_type": "code",
   "metadata": {},
   "source": [
    "import azure.cognitiveservices.speech as speechsdk\n",
    "speech_key = 'YOUR_AZURE_SPEECH_KEY'  # Replace with your key\n",
    "service_region = 'YOUR_REGION'  # e.g., 'eastus'\n",
    "audio_filename = 'mock_audio.wav'  # Replace with your audio file\n",
    "speech_config = speechsdk.SpeechConfig(subscription=speech_key, region=service_region)\n",
    "audio_input = speechsdk.AudioConfig(filename=audio_filename)\n",
    "speech_recognizer = speechsdk.SpeechRecognizer(speech_config=speech_config, audio_config=audio_input)\n",
    "result = speech_recognizer.recognize_once()\n",
    "print('Transcription:', result.text)"
   ]
  },
  {
   "cell_type": "markdown",
   "metadata": {},
   "source": [
    "## 2. Generate Clinical Notes with Azure OpenAI"
   ]
  },
  {
   "cell_type": "code",
   "metadata": {},
   "source": [
    "import openai\n",
    "openai.api_type = 'azure'\n",
    "openai.api_base = 'https://YOUR_RESOURCE_NAME.openai.azure.com/'  # Replace\n",
    "openai.api_key = 'YOUR_OPENAI_KEY'\n",
    "openai.api_version = '2023-03-15-preview'\n",
    "prompt = f'Summarize this conversation into clinical notes: {result.text}'\n",
    "response = openai.ChatCompletion.create(\n",
    "    engine='gpt-35-turbo',\n",
    "    messages=[{'role': 'user', 'content': prompt}]\n",
    ")\n",
    "print('Clinical Notes:', response['choices'][0]['message']['content'])"
   ]
  }
 ],
 "metadata": {
  "kernelspec": {
   "display_name": "Python 3",
   "language": "python",
   "name": "python3"
  },
  "language_info": {
   "name": "python",
   "version": "3.8"
  }
 },
 "nbformat": 4,
 "nbformat_minor": 2
}
